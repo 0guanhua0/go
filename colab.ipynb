!git clone https://github.com/0guanhua0/go.git

%cd go
!pip install -r requirements.txt

from google.colab import userdata
import wandb

wandb_api_key = userdata.get('WANDB_API_KEY')
wandb.login(key=wandb_api_key)

!python train.py 2>&1 | tee train.log
